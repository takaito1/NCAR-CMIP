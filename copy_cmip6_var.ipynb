{
 "cells": [
  {
   "cell_type": "code",
   "execution_count": null,
   "id": "d63f6e1d-b356-45fb-a85d-1878857916f3",
   "metadata": {},
   "outputs": [],
   "source": [
    "import numpy as np\n",
    "import matplotlib.pyplot as plt\n",
    "import xarray as xr\n",
    "import pandas as pd\n",
    "import os"
   ]
  },
  {
   "cell_type": "markdown",
   "id": "0b678bf1-2c66-46ae-8f62-de924d37bb3e",
   "metadata": {},
   "source": [
    "## copy a selected data files to scratch"
   ]
  },
  {
   "cell_type": "code",
   "execution_count": null,
   "id": "4949ff87-f25b-4840-b3f5-9fbee88b7b07",
   "metadata": {},
   "outputs": [],
   "source": [
    "#! ls /glade/collections/cmip/CMIP6/CMIP/*/*/historical/r1i1p1f1/Omon/thetao/*/*/*/*.nc  > thetao.txt\n",
    "df=pd.read_csv('thetao.txt')\n",
    "dirs=df['dirs']"
   ]
  },
  {
   "cell_type": "code",
   "execution_count": null,
   "id": "7ea055c5-5b48-4f4a-b150-ebbf750f0cfe",
   "metadata": {},
   "outputs": [],
   "source": [
    "N=len(dirs)\n",
    "for n in range(0,N):\n",
    "    model=dirs[n].split('/')[7]\n",
    "    os.system('mkdir -p '+model)\n",
    "    os.system('cp '+dirs[n]+'/*/*/*/*.nc '+model+'/.')"
   ]
  },
  {
   "cell_type": "code",
   "execution_count": null,
   "id": "75dc7d74-ebe9-4ebe-9013-244b68ce1f1e",
   "metadata": {},
   "outputs": [],
   "source": [
    "df=pd.read_csv('so.txt')\n",
    "dirs=df['dirs']"
   ]
  },
  {
   "cell_type": "code",
   "execution_count": null,
   "id": "67917cfb-9e8f-45be-8331-9c2ef562df4e",
   "metadata": {},
   "outputs": [],
   "source": [
    "N=len(dirs)\n",
    "for n in range(0,N):\n",
    "    model=dirs[n].split('/')[7]\n",
    "    os.system('cp '+dirs[n]+'/*/*/*/*.nc '+model+'/.')"
   ]
  },
  {
   "cell_type": "code",
   "execution_count": null,
   "id": "e7dd943f-631f-480b-abed-a4cbf3e1503d",
   "metadata": {},
   "outputs": [],
   "source": [
    "df=pd.read_csv('o2.txt')\n",
    "dirs=df['dirs']\n",
    "N=len(dirs)\n",
    "for n in range(0,N):\n",
    "    model=dirs[n].split('/')[7]\n",
    "    os.system('mkdir -p '+model)\n",
    "    os.system('cp '+dirs[n]+'/*/*/*/*.nc '+model+'/.')"
   ]
  },
  {
   "cell_type": "code",
   "execution_count": null,
   "id": "924b1913-a235-48e5-a803-eea30b17541f",
   "metadata": {},
   "outputs": [],
   "source": [
    "df=pd.read_csv('fgco2.txt')\n",
    "dirs=df['dirs']\n",
    "N=len(dirs)\n",
    "for n in range(0,N):\n",
    "    model=dirs[n].split('/')[7]\n",
    "    os.system('mkdir -p '+model)\n",
    "    os.system('cp '+dirs[n]+'/*/*/*/*.nc '+model+'/.')"
   ]
  },
  {
   "cell_type": "code",
   "execution_count": null,
   "id": "d0c89c29-b094-4a4a-8806-6b673892225a",
   "metadata": {},
   "outputs": [],
   "source": [
    "df=pd.read_csv('mlotst.txt')\n",
    "dirs=df['dirs']\n",
    "N=len(dirs)\n",
    "for n in range(0,N):\n",
    "    model=dirs[n].split('/')[7]\n",
    "    os.system('mkdir -p '+model)\n",
    "    os.system('cp '+dirs[n]+'/*/*/*/*.nc '+model+'/.')"
   ]
  },
  {
   "cell_type": "code",
   "execution_count": null,
   "id": "25112697-bd28-4c24-a7fb-240fdba15ab7",
   "metadata": {},
   "outputs": [],
   "source": [
    "df=pd.read_csv('po4.txt')\n",
    "dirs=df['dirs']\n",
    "N=len(dirs)\n",
    "for n in range(0,N):\n",
    "    model=dirs[n].split('/')[7]\n",
    "    os.system('mkdir -p '+model)\n",
    "    os.system('cp '+dirs[n]+'/*/*/*/*.nc '+model+'/.')"
   ]
  },
  {
   "cell_type": "code",
   "execution_count": null,
   "id": "37ae4075-b03d-4509-96c3-6f342a2e7039",
   "metadata": {},
   "outputs": [],
   "source": [
    "df=pd.read_csv('tos.txt')\n",
    "dirs=df['dirs']\n",
    "N=len(dirs)\n",
    "for n in range(0,N):\n",
    "    model=dirs[n].split('/')[7]\n",
    "    os.system('mkdir -p '+model)\n",
    "    os.system('cp '+dirs[n]+'/*/*/*/*.nc '+model+'/.')"
   ]
  },
  {
   "cell_type": "code",
   "execution_count": null,
   "id": "0c7a36e0-129c-4953-996c-578a99d4d672",
   "metadata": {},
   "outputs": [],
   "source": []
  },
  {
   "cell_type": "code",
   "execution_count": null,
   "id": "dc4cd728-3999-4910-9c7a-59a3c701b5c0",
   "metadata": {},
   "outputs": [],
   "source": []
  }
 ],
 "metadata": {
  "kernelspec": {
   "display_name": "Python [conda env:miniconda3-analysis]",
   "language": "python",
   "name": "conda-env-miniconda3-analysis-py"
  },
  "language_info": {
   "codemirror_mode": {
    "name": "ipython",
    "version": 3
   },
   "file_extension": ".py",
   "mimetype": "text/x-python",
   "name": "python",
   "nbconvert_exporter": "python",
   "pygments_lexer": "ipython3",
   "version": "3.7.12"
  }
 },
 "nbformat": 4,
 "nbformat_minor": 5
}
