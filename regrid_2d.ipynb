{
 "cells": [
  {
   "cell_type": "code",
   "execution_count": null,
   "id": "1c467d72-f213-476e-b7f2-c79f41df0e94",
   "metadata": {},
   "outputs": [],
   "source": [
    "import numpy as np\n",
    "import matplotlib.pyplot as plt\n",
    "import xarray as xr\n",
    "import pandas as pd\n",
    "import os"
   ]
  },
  {
   "cell_type": "markdown",
   "id": "90ddc2b7-48ca-4647-ae43-5ca633522067",
   "metadata": {},
   "source": [
    "# regrid a selected 2D data files"
   ]
  },
  {
   "cell_type": "code",
   "execution_count": null,
   "id": "61534231-c530-49cf-9432-9b4552145235",
   "metadata": {},
   "outputs": [],
   "source": [
    "var='tos'"
   ]
  },
  {
   "cell_type": "code",
   "execution_count": null,
   "id": "d2f095e2-7de5-4517-a3bb-c1e1446b8dca",
   "metadata": {},
   "outputs": [],
   "source": [
    "df=pd.read_csv(var+'.txt')\n",
    "dirs=df['dirs']\n",
    "N=len(dirs)\n",
    "os.system('mkdir -p bil_woagrid')\n",
    "for n in range(0,N):\n",
    "    model=dirs[n].split('/')[7]\n",
    "    os.system('ls '+model+'/'+var+'*.nc > tmp.txt')\n",
    "    fid=open('tmp.txt','r')\n",
    "    files=fid.read().splitlines()\n",
    "    for m in files:\n",
    "        os.system('mkdir -p bil_woagrid/'+model)\n",
    "        os.system('cdo remapbil,grd1x1 '+m+' bil_woagrid/'+m+'_1x1.nc')"
   ]
  },
  {
   "cell_type": "markdown",
   "id": "f496c73a-d32c-4fa9-aa73-7ef6463cbdac",
   "metadata": {},
   "source": [
    "## mergetime to make it into a single file"
   ]
  },
  {
   "cell_type": "code",
   "execution_count": null,
   "id": "137f2d47-6942-4da8-be75-c2385b60cd89",
   "metadata": {},
   "outputs": [],
   "source": [
    "df=pd.read_csv(var+'.txt')\n",
    "dirs=df['dirs']\n",
    "N=len(dirs)\n",
    "for n in range(0,N):\n",
    "    model=dirs[n].split('/')[7]\n",
    "    os.system('mkdir -p woagrid/'+model)\n",
    "    os.system('cdo mergetime bil_woagrid/'+model+'/'+var+'*gn*_1x1.nc woagrid/'+model+'/'+var+'_'+model+'_Omon_historical_r1i1p1f1_gn_woagrid.nc')"
   ]
  },
  {
   "cell_type": "code",
   "execution_count": null,
   "id": "1f12a47d-07d0-4614-93b5-2844158da98e",
   "metadata": {},
   "outputs": [],
   "source": [
    "df=pd.read_csv(var+'.txt')\n",
    "dirs=df['dirs']\n",
    "N=len(dirs)\n",
    "for n in range(0,N):\n",
    "    model=dirs[n].split('/')[7]\n",
    "    os.system('mkdir -p woagrid/'+model)\n",
    "    os.system('cdo mergetime bil_woagrid/'+model+'/'+var+'*gr*_1x1.nc woagrid/'+model+'/'+var+'_'+model+'_Omon_historical_r1i1p1f1_gr_woagrid.nc')"
   ]
  },
  {
   "cell_type": "code",
   "execution_count": null,
   "id": "5474e1c6-a0cb-462f-9e12-c27324ce5d96",
   "metadata": {},
   "outputs": [],
   "source": []
  }
 ],
 "metadata": {
  "kernelspec": {
   "display_name": "Python [conda env:miniconda3-analysis]",
   "language": "python",
   "name": "conda-env-miniconda3-analysis-py"
  },
  "language_info": {
   "codemirror_mode": {
    "name": "ipython",
    "version": 3
   },
   "file_extension": ".py",
   "mimetype": "text/x-python",
   "name": "python",
   "nbconvert_exporter": "python",
   "pygments_lexer": "ipython3",
   "version": "3.7.12"
  }
 },
 "nbformat": 4,
 "nbformat_minor": 5
}
